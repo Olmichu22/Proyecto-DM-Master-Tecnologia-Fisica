{
 "cells": [
  {
   "cell_type": "code",
   "execution_count": 1,
   "metadata": {},
   "outputs": [],
   "source": [
    "import numpy as np\n",
    "import matplotlib.pyplot as plt\n",
    "from SimulatedPhoton import SimulatedPhoton\n",
    "from utils import reflect, refract"
   ]
  },
  {
   "cell_type": "code",
   "execution_count": 7,
   "metadata": {},
   "outputs": [],
   "source": [
    "def reflect(l=[0.,0.,0.], n=[0.,0.,0.]):\n",
    "  \"\"\"\n",
    "  Reflexión de un vector sobre un plano definido por una normal.\n",
    "  \n",
    "  Args:\n",
    "      l (list, float): Vector a reflejar. Defaults to [0.,0.,0.].\n",
    "      n (list, float): Vector normal al plano de reflexión. Defaults to [0.,0.,0.].\n",
    "  \n",
    "  Returns:\n",
    "      list, float: Vector reflejado.\n",
    "  \"\"\"\n",
    "  return l -2*np.dot(l,n)*n"
   ]
  },
  {
   "cell_type": "code",
   "execution_count": null,
   "metadata": {},
   "outputs": [
    {
     "name": "stdout",
     "output_type": "stream",
     "text": [
      "[ 0.70710678 -0.70710678  0.        ]\n",
      "[0 1 0]\n",
      "0.7853981633974487\n",
      "[-0.41143783  0.91143783  0.        ]\n",
      "0.36136712390670817\n"
     ]
    }
   ],
   "source": [
    "foton1 = SimulatedPhoton(1, d = np.array([0, 1, 0]))\n",
    "n = np.array([1, -1, 0])\n",
    "# Normaliza n con numpy\n",
    "n = n / np.linalg.norm(n)\n",
    "print(n)\n",
    "print(foton1.get_d())\n",
    "refl_dir = reflect(foton1.get_d(), n)\n",
    "print(np.arccos(np.dot(refl_dir, n)))\n",
    "trans_dir = refract(foton1.get_d(), n, 1, 2)\n",
    "print(trans_dir)\n",
    "print(np.arccos(np.dot(trans_dir, -n)))"
   ]
  },
  {
   "cell_type": "code",
   "execution_count": 15,
   "metadata": {},
   "outputs": [],
   "source": [
    "def intersecion_foton_esfera(centro, radio, foton):\n",
    "  \"\"\"\n",
    "  Calcula la intersección de una recta con una esfera.\n",
    "  \n",
    "  Args:\n",
    "      centro (list, float): Centro de la esfera.\n",
    "      radio (float): Radio de la esfera.\n",
    "      origen (list, float): Origen de la recta.\n",
    "      direccion (list, float): Dirección de la recta.\n",
    "  \n",
    "  Returns:\n",
    "      list, float: Punto de intersección.\n",
    "  \"\"\"\n",
    "  origen = foton.get_pos()\n",
    "  direccion = foton.get_dir()\n",
    "  l = origen - centro\n",
    "  a = np.dot(direccion, direccion)\n",
    "  b = 2*np.dot(l, direccion)\n",
    "  c = np.dot(l, l) - radio**2\n",
    "  discriminante = b**2 - 4*a*c\n",
    "  if discriminante < 0:\n",
    "    return [0, 0, 0], [0, 0, 0]\n",
    "  t0 = (-b - np.sqrt(discriminante)) / (2*a)\n",
    "  t1 = (-b + np.sqrt(discriminante)) / (2*a)\n",
    "  \n",
    "  if foton.get_spa() != 0:\n",
    "    t = t0 if np.abs(t0) > np.abs(t1) else t1\n",
    "  elif foton.get_spa() == 0:\n",
    "    t = t0 if np.abs(t0) < np.abs(t1) else t1\n",
    "  \n",
    "  p_interseccion = origen + t*direccion\n",
    "  # Vector normal a la superficie en el punto de interseccion\n",
    "  n = p_interseccion - centro\n",
    "  n = n / np.linalg.norm(n)\n",
    "  \n",
    "  return origen + t*direccion, n"
   ]
  },
  {
   "cell_type": "code",
   "execution_count": 19,
   "metadata": {},
   "outputs": [
    {
     "name": "stdout",
     "output_type": "stream",
     "text": [
      "[0.  1.5 0. ]\n"
     ]
    },
    {
     "data": {
      "image/png": "[encoded data removed]",
      "text/plain": [
       "<Figure size 640x480 with 1 Axes>"
      ]
     },
     "metadata": {},
     "output_type": "display_data"
    }
   ],
   "source": [
    "# Generamos una esfera de radio 0.5 y centro en el 1, 1\n",
    "foton1 = SimulatedPhoton(1, pos = np.array([0, 1.2, 0]), dire = np.array([0, 1, 0]))\n",
    "centro = np.array([0, 1, 0])\n",
    "radio = 0.5\n",
    "origen = foton1.get_pos()\n",
    "direccion = foton1.get_dir()\n",
    "interseccion_1, n = intersecion_foton_esfera(centro, radio, foton1)\n",
    "print(interseccion_1)\n",
    "# Dibujamos circunferencia (coordenadas x e y)\n",
    "theta = np.linspace(0, 2*np.pi, 100)\n",
    "x = centro[0] + radio*np.cos(theta)\n",
    "y = centro[1] + radio*np.sin(theta)\n",
    "plt.plot(x, y)\n",
    "plt.xlim(-2,2)\n",
    "plt.ylim(0,2)\n",
    "# Same size axis\n",
    "# Dibujar origen y vector de direccion\n",
    "plt.scatter(origen[0], origen[1], c='b')\n",
    "plt.quiver(origen[0], origen[1], direccion[0], direccion[1], color='b')\n",
    "plt.quiver(interseccion_1[0], interseccion_1[1], n[0], n[1], color='g')\n",
    "plt.axis('equal')\n",
    "plt.plot([origen[0], 0], [origen[1], 2])\n",
    "plt.scatter(interseccion_1[0], interseccion_1[1], c='r')\n",
    "# plt.scatter(interseccion_2[0], interseccion_2[1], c='r')\n",
    "plt.show()"
   ]
  }
 ],
 "metadata": {
  "kernelspec": {
   "display_name": "dmateriales",
   "language": "python",
   "name": "python3"
  },
  "language_info": {
   "codemirror_mode": {
    "name": "ipython",
    "version": 3
   },
   "file_extension": ".py",
   "mimetype": "text/x-python",
   "name": "python",
   "nbconvert_exporter": "python",
   "pygments_lexer": "ipython3",
   "version": "3.10.16"
  }
 },
 "nbformat": 4,
 "nbformat_minor": 2
}
